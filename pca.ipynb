{
 "cells": [
  {
   "cell_type": "markdown",
   "id": "a12a595f",
   "metadata": {},
   "source": [
    "## Principal Component Analysis"
   ]
  },
  {
   "cell_type": "markdown",
   "id": "83074759",
   "metadata": {},
   "source": [
    "Principal component analysis is a technique for feature extraction — so it\n",
    "combines our input variables in a specific way, then we can drop the “least\n",
    "important” variables while still retaining the most valuable parts of all of the\n",
    "variables!\n",
    "As an added benefit, each of the “new” variables after PCA are all\n",
    "independent of one another.\n",
    "PCA achieves this goal by projecting data onto a lower-dimensional\n",
    "subspace that retains most of the variability among data."
   ]
  },
  {
   "cell_type": "markdown",
   "id": "7d6a0b8d",
   "metadata": {},
   "source": [
    "Orthogonal transformation to convert a set of observations of possibly correlated\n",
    "variables into a set of values of linearly uncorrelated variables called principal\n",
    "components."
   ]
  },
  {
   "cell_type": "markdown",
   "id": "3c374f28",
   "metadata": {},
   "source": [
    "This transformation is defined in such a way that the first principal component\n",
    "has the largest possible variance (i.e.; it accounts for as much of the variability\n",
    "in the data as possible), and each succeeding component in turn has the\n",
    "highest variance possible under the constraint that it is orthogonal to the\n",
    "preceding components."
   ]
  },
  {
   "cell_type": "markdown",
   "id": "391faeb4",
   "metadata": {},
   "source": [
    "The resulting vectors form an uncorrelated orthogonal basis set"
   ]
  },
  {
   "cell_type": "markdown",
   "id": "1042e3a2",
   "metadata": {},
   "source": [
    "- We calculate the largest eigenvalue 𝜆1 and the corresponding eigenvector 𝒗1 of the covariance matrix C, as the direction of the largest variance in the dataset\n",
    "- Each succeeding component 𝒗* must follow the direction of the next largest possible\n",
    "variance under the constraint that it is orthogonal to (i.e., uncorrelated with) the\n",
    "preceding components\n",
    "- 𝑣1 describes most of the variability in the data, 𝑣2 adds the next big contribution, and so\n",
    "on. In the end, the last 𝑣+ do not bring much more information to describe the data."
   ]
  },
  {
   "cell_type": "markdown",
   "id": "6af8550d",
   "metadata": {},
   "source": [
    "### Application"
   ]
  },
  {
   "cell_type": "code",
   "execution_count": 1,
   "id": "21a3a413",
   "metadata": {},
   "outputs": [],
   "source": [
    "data(iris)"
   ]
  },
  {
   "cell_type": "code",
   "execution_count": 3,
   "id": "f4d582e8",
   "metadata": {},
   "outputs": [
    {
     "data": {
      "text/html": [
       "<table class=\"dataframe\">\n",
       "<caption>A data.frame: 6 × 5</caption>\n",
       "<thead>\n",
       "\t<tr><th></th><th scope=col>Sepal.Length</th><th scope=col>Sepal.Width</th><th scope=col>Petal.Length</th><th scope=col>Petal.Width</th><th scope=col>Species</th></tr>\n",
       "\t<tr><th></th><th scope=col>&lt;dbl&gt;</th><th scope=col>&lt;dbl&gt;</th><th scope=col>&lt;dbl&gt;</th><th scope=col>&lt;dbl&gt;</th><th scope=col>&lt;fct&gt;</th></tr>\n",
       "</thead>\n",
       "<tbody>\n",
       "\t<tr><th scope=row>1</th><td>5.1</td><td>3.5</td><td>1.4</td><td>0.2</td><td>setosa</td></tr>\n",
       "\t<tr><th scope=row>2</th><td>4.9</td><td>3.0</td><td>1.4</td><td>0.2</td><td>setosa</td></tr>\n",
       "\t<tr><th scope=row>3</th><td>4.7</td><td>3.2</td><td>1.3</td><td>0.2</td><td>setosa</td></tr>\n",
       "\t<tr><th scope=row>4</th><td>4.6</td><td>3.1</td><td>1.5</td><td>0.2</td><td>setosa</td></tr>\n",
       "\t<tr><th scope=row>5</th><td>5.0</td><td>3.6</td><td>1.4</td><td>0.2</td><td>setosa</td></tr>\n",
       "\t<tr><th scope=row>6</th><td>5.4</td><td>3.9</td><td>1.7</td><td>0.4</td><td>setosa</td></tr>\n",
       "</tbody>\n",
       "</table>\n"
      ],
      "text/latex": [
       "A data.frame: 6 × 5\n",
       "\\begin{tabular}{r|lllll}\n",
       "  & Sepal.Length & Sepal.Width & Petal.Length & Petal.Width & Species\\\\\n",
       "  & <dbl> & <dbl> & <dbl> & <dbl> & <fct>\\\\\n",
       "\\hline\n",
       "\t1 & 5.1 & 3.5 & 1.4 & 0.2 & setosa\\\\\n",
       "\t2 & 4.9 & 3.0 & 1.4 & 0.2 & setosa\\\\\n",
       "\t3 & 4.7 & 3.2 & 1.3 & 0.2 & setosa\\\\\n",
       "\t4 & 4.6 & 3.1 & 1.5 & 0.2 & setosa\\\\\n",
       "\t5 & 5.0 & 3.6 & 1.4 & 0.2 & setosa\\\\\n",
       "\t6 & 5.4 & 3.9 & 1.7 & 0.4 & setosa\\\\\n",
       "\\end{tabular}\n"
      ],
      "text/markdown": [
       "\n",
       "A data.frame: 6 × 5\n",
       "\n",
       "| <!--/--> | Sepal.Length &lt;dbl&gt; | Sepal.Width &lt;dbl&gt; | Petal.Length &lt;dbl&gt; | Petal.Width &lt;dbl&gt; | Species &lt;fct&gt; |\n",
       "|---|---|---|---|---|---|\n",
       "| 1 | 5.1 | 3.5 | 1.4 | 0.2 | setosa |\n",
       "| 2 | 4.9 | 3.0 | 1.4 | 0.2 | setosa |\n",
       "| 3 | 4.7 | 3.2 | 1.3 | 0.2 | setosa |\n",
       "| 4 | 4.6 | 3.1 | 1.5 | 0.2 | setosa |\n",
       "| 5 | 5.0 | 3.6 | 1.4 | 0.2 | setosa |\n",
       "| 6 | 5.4 | 3.9 | 1.7 | 0.4 | setosa |\n",
       "\n"
      ],
      "text/plain": [
       "  Sepal.Length Sepal.Width Petal.Length Petal.Width Species\n",
       "1 5.1          3.5         1.4          0.2         setosa \n",
       "2 4.9          3.0         1.4          0.2         setosa \n",
       "3 4.7          3.2         1.3          0.2         setosa \n",
       "4 4.6          3.1         1.5          0.2         setosa \n",
       "5 5.0          3.6         1.4          0.2         setosa \n",
       "6 5.4          3.9         1.7          0.4         setosa "
      ]
     },
     "metadata": {},
     "output_type": "display_data"
    }
   ],
   "source": [
    "head(iris)"
   ]
  },
  {
   "cell_type": "markdown",
   "id": "59fd066f",
   "metadata": {},
   "source": [
    "Iris dataset has 3 classes (setosa,verticolor and virginica) and 4 features (sepal length and width, petal length and width)."
   ]
  },
  {
   "cell_type": "markdown",
   "id": "e1c8df74",
   "metadata": {},
   "source": [
    "### Summary of the Approach\n",
    "- Standardize data\n",
    "- Obtain eigenvectors and eigenvalues from the covariance matrix or correlation matrix\n",
    "- Sort eigenvalues in desc order and choose the k eigenvectors that correspond to the k largest eigenvalues where k is the number of dimensions of the new feature subspace\n",
    "- Construct the projection matrix W from the selected k eigenvectors\n",
    "- Transform the original dataset X via W to obtain a k-dimensional feature subspace Y\n"
   ]
  },
  {
   "cell_type": "markdown",
   "id": "0f4bb68b",
   "metadata": {},
   "source": [
    "### Visualizing the dataset"
   ]
  },
  {
   "cell_type": "code",
   "execution_count": 10,
   "id": "7fbef795",
   "metadata": {},
   "outputs": [
    {
     "name": "stdout",
     "output_type": "stream",
     "text": [
      "'data.frame':\t150 obs. of  5 variables:\n",
      " $ Sepal.Length: num  5.1 4.9 4.7 4.6 5 5.4 4.6 5 4.4 4.9 ...\n",
      " $ Sepal.Width : num  3.5 3 3.2 3.1 3.6 3.9 3.4 3.4 2.9 3.1 ...\n",
      " $ Petal.Length: num  1.4 1.4 1.3 1.5 1.4 1.7 1.4 1.5 1.4 1.5 ...\n",
      " $ Petal.Width : num  0.2 0.2 0.2 0.2 0.2 0.4 0.3 0.2 0.2 0.1 ...\n",
      " $ Species     : Factor w/ 3 levels \"setosa\",\"versicolor\",..: 1 1 1 1 1 1 1 1 1 1 ...\n"
     ]
    }
   ],
   "source": [
    "str(iris)"
   ]
  },
  {
   "cell_type": "code",
   "execution_count": 24,
   "id": "4449c34b",
   "metadata": {},
   "outputs": [],
   "source": [
    "library(ggplot2)"
   ]
  },
  {
   "cell_type": "code",
   "execution_count": 48,
   "id": "929e8ef0",
   "metadata": {},
   "outputs": [
    {
     "data": {
      "image/png": "[encoded data removed]",
      "text/plain": [
       "plot without title"
      ]
     },
     "metadata": {
      "image/png": {
       "height": 420,
       "width": 420
      }
     },
     "output_type": "display_data"
    },
    {
     "data": {
      "image/png": "[encoded data removed]",
      "text/plain": [
       "plot without title"
      ]
     },
     "metadata": {
      "image/png": {
       "height": 420,
       "width": 420
      }
     },
     "output_type": "display_data"
    },
    {
     "data": {
      "image/png": "[encoded data removed]",
      "text/plain": [
       "plot without title"
      ]
     },
     "metadata": {
      "image/png": {
       "height": 420,
       "width": 420
      }
     },
     "output_type": "display_data"
    },
    {
     "data": {
      "image/png": "[encoded data removed]",
      "text/plain": [
       "plot without title"
      ]
     },
     "metadata": {
      "image/png": {
       "height": 420,
       "width": 420
      }
     },
     "output_type": "display_data"
    }
   ],
   "source": [
    "ggplot(iris) + geom_histogram(aes(x = Sepal.Length, fill = Species), alpha = 0.5, bins = 30) + labs(title=\"Histogram of Sepal Length\", caption = \"Source: iris dataset\") + theme_minimal()\n",
    "ggplot(iris) + geom_histogram(aes(x = Sepal.Width, fill = Species), alpha = 0.5, bins = 30)+ labs(title=\"Histogram of Sepal Width\", caption = \"Source: iris dataset\") + theme_minimal()\n",
    "ggplot(iris) + geom_histogram(aes(x = Petal.Length, fill = Species), alpha = 0.5, bins = 30)+ labs(title=\"Histogram of Petal Length\", caption = \"Source: iris dataset\") + theme_minimal()\n",
    "ggplot(iris) + geom_histogram(aes(x = Petal.Width, fill = Species), alpha = 0.5, bins = 30)+ labs(title=\"Histogram of Petal Width\", caption = \"Source: iris dataset\") + theme_minimal()\n",
    "\n"
   ]
  },
  {
   "cell_type": "code",
   "execution_count": 233,
   "id": "a645b895",
   "metadata": {},
   "outputs": [
    {
     "data": {
      "image/png": "[encoded data removed]",
      "text/plain": [
       "plot without title"
      ]
     },
     "metadata": {
      "image/png": {
       "height": 420,
       "width": 420
      }
     },
     "output_type": "display_data"
    },
    {
     "data": {
      "image/png": "[encoded data removed]",
      "text/plain": [
       "plot without title"
      ]
     },
     "metadata": {
      "image/png": {
       "height": 420,
       "width": 420
      }
     },
     "output_type": "display_data"
    }
   ],
   "source": [
    "ggplot(iris) + geom_point(aes(x = Petal.Width, y = Petal.Length, colour = Species), alpha = 0.6, size = 3)\n",
    "ggplot(iris) + geom_point(aes(x = Sepal.Width, y = Sepal.Length, colour = Species), alpha = 0.6, size = 3)"
   ]
  },
  {
   "cell_type": "code",
   "execution_count": 52,
   "id": "3bc77cdf",
   "metadata": {},
   "outputs": [
    {
     "data": {
      "image/png": "[encoded data removed]",
      "text/plain": [
       "plot without title"
      ]
     },
     "metadata": {
      "image/png": {
       "height": 420,
       "width": 420
      }
     },
     "output_type": "display_data"
    }
   ],
   "source": [
    "ggplot(iris, aes(x = Sepal.Length, y = Sepal.Width, colour = Species, shape = Species)) + geom_point(alpha = 0.5, size=6) + theme_minimal() + labs(subtitle=\"Sepal.Length Vs Sepal.Width\", y=\"Sepal.Width\", x=\"Sepal.Length\", title=\"Scatterplot\", caption = \"Source: iris\") + theme_minimal()\n"
   ]
  },
  {
   "cell_type": "markdown",
   "id": "abbebdf9",
   "metadata": {},
   "source": [
    "Although, all features in the Iris dataset were measured in centimeters, let us continue with\n",
    "the transformation of the data onto unit scale (mean=0 and variance=1), which is a\n",
    "requirement for the optimal performance of many machine learning algorithms."
   ]
  },
  {
   "cell_type": "markdown",
   "id": "a0dae734",
   "metadata": {},
   "source": [
    "The eigenvectors and eigenvalues of a covariance (or correlation) matrix represent the\n",
    "\"core\" of a PCA: The eigenvectors (principal components) determine the directions of the\n",
    "new feature space, and the eigenvalues determine their magnitude. In other words, the\n",
    "eigenvalues explain the variance of the data along the new feature axes."
   ]
  },
  {
   "cell_type": "markdown",
   "id": "724a2062",
   "metadata": {},
   "source": [
    "The typical goal of a PCA is to reduce the dimensionality of the original feature space by\n",
    "projecting it onto a smaller subspace, where the eigenvectors will form the axes.\n",
    "In order to decide which eigenvector(s) can be dropped without losing too much\n",
    "information for the construction of lower-dimensional subspace, we need to inspect the\n",
    "corresponding eigenvalues: The eigenvectors with the lowest eigenvalues bear the least\n",
    "information about the distribution of the data; those are the ones can be dropped."
   ]
  },
  {
   "cell_type": "markdown",
   "id": "2c3bc1e9",
   "metadata": {},
   "source": [
    "### Calculating the Covariance (Correlation) Matrix"
   ]
  },
  {
   "cell_type": "markdown",
   "id": "6f7210f2",
   "metadata": {},
   "source": [
    "The eigendecomposition of the covariance matrix (if the input data was standardized) yields the same results as a eigendecomposition on the correlation matrix, since the correlation matrix can be understood as the normalized covariance matrix."
   ]
  },
  {
   "cell_type": "code",
   "execution_count": 65,
   "id": "a305097c",
   "metadata": {},
   "outputs": [],
   "source": [
    "iris_stripped <- iris[,-5]"
   ]
  },
  {
   "cell_type": "code",
   "execution_count": 73,
   "id": "9cac9dc1",
   "metadata": {},
   "outputs": [],
   "source": [
    "iris_scaled <- scale(iris_stripped, center = TRUE, scale = TRUE)"
   ]
  },
  {
   "cell_type": "code",
   "execution_count": 79,
   "id": "3845e9ac",
   "metadata": {},
   "outputs": [
    {
     "data": {
      "text/html": [
       "<table class=\"dataframe\">\n",
       "<caption>A matrix: 4 × 4 of type dbl</caption>\n",
       "<thead>\n",
       "\t<tr><th></th><th scope=col>Sepal.Length</th><th scope=col>Sepal.Width</th><th scope=col>Petal.Length</th><th scope=col>Petal.Width</th></tr>\n",
       "</thead>\n",
       "<tbody>\n",
       "\t<tr><th scope=row>Sepal.Length</th><td> 1.0000000</td><td>-0.1175698</td><td> 0.8717538</td><td> 0.8179411</td></tr>\n",
       "\t<tr><th scope=row>Sepal.Width</th><td>-0.1175698</td><td> 1.0000000</td><td>-0.4284401</td><td>-0.3661259</td></tr>\n",
       "\t<tr><th scope=row>Petal.Length</th><td> 0.8717538</td><td>-0.4284401</td><td> 1.0000000</td><td> 0.9628654</td></tr>\n",
       "\t<tr><th scope=row>Petal.Width</th><td> 0.8179411</td><td>-0.3661259</td><td> 0.9628654</td><td> 1.0000000</td></tr>\n",
       "</tbody>\n",
       "</table>\n"
      ],
      "text/latex": [
       "A matrix: 4 × 4 of type dbl\n",
       "\\begin{tabular}{r|llll}\n",
       "  & Sepal.Length & Sepal.Width & Petal.Length & Petal.Width\\\\\n",
       "\\hline\n",
       "\tSepal.Length &  1.0000000 & -0.1175698 &  0.8717538 &  0.8179411\\\\\n",
       "\tSepal.Width & -0.1175698 &  1.0000000 & -0.4284401 & -0.3661259\\\\\n",
       "\tPetal.Length &  0.8717538 & -0.4284401 &  1.0000000 &  0.9628654\\\\\n",
       "\tPetal.Width &  0.8179411 & -0.3661259 &  0.9628654 &  1.0000000\\\\\n",
       "\\end{tabular}\n"
      ],
      "text/markdown": [
       "\n",
       "A matrix: 4 × 4 of type dbl\n",
       "\n",
       "| <!--/--> | Sepal.Length | Sepal.Width | Petal.Length | Petal.Width |\n",
       "|---|---|---|---|---|\n",
       "| Sepal.Length |  1.0000000 | -0.1175698 |  0.8717538 |  0.8179411 |\n",
       "| Sepal.Width | -0.1175698 |  1.0000000 | -0.4284401 | -0.3661259 |\n",
       "| Petal.Length |  0.8717538 | -0.4284401 |  1.0000000 |  0.9628654 |\n",
       "| Petal.Width |  0.8179411 | -0.3661259 |  0.9628654 |  1.0000000 |\n",
       "\n"
      ],
      "text/plain": [
       "             Sepal.Length Sepal.Width Petal.Length Petal.Width\n",
       "Sepal.Length  1.0000000   -0.1175698   0.8717538    0.8179411 \n",
       "Sepal.Width  -0.1175698    1.0000000  -0.4284401   -0.3661259 \n",
       "Petal.Length  0.8717538   -0.4284401   1.0000000    0.9628654 \n",
       "Petal.Width   0.8179411   -0.3661259   0.9628654    1.0000000 "
      ]
     },
     "metadata": {},
     "output_type": "display_data"
    }
   ],
   "source": [
    "iris_cov<-cov(iris_scaled)\n",
    "iris_cov"
   ]
  },
  {
   "cell_type": "markdown",
   "id": "89aee8a0",
   "metadata": {},
   "source": [
    "### Calculating the Eigenvectors (Principal Components)"
   ]
  },
  {
   "cell_type": "code",
   "execution_count": 90,
   "id": "4da4d2d9",
   "metadata": {},
   "outputs": [
    {
     "data": {
      "text/html": [
       "<table class=\"dataframe\">\n",
       "<caption>A matrix: 4 × 4 of type dbl</caption>\n",
       "<tbody>\n",
       "\t<tr><td> 0.5210659</td><td>-0.37741762</td><td> 0.7195664</td><td> 0.2612863</td></tr>\n",
       "\t<tr><td>-0.2693474</td><td>-0.92329566</td><td>-0.2443818</td><td>-0.1235096</td></tr>\n",
       "\t<tr><td> 0.5804131</td><td>-0.02449161</td><td>-0.1421264</td><td>-0.8014492</td></tr>\n",
       "\t<tr><td> 0.5648565</td><td>-0.06694199</td><td>-0.6342727</td><td> 0.5235971</td></tr>\n",
       "</tbody>\n",
       "</table>\n"
      ],
      "text/latex": [
       "A matrix: 4 × 4 of type dbl\n",
       "\\begin{tabular}{llll}\n",
       "\t  0.5210659 & -0.37741762 &  0.7195664 &  0.2612863\\\\\n",
       "\t -0.2693474 & -0.92329566 & -0.2443818 & -0.1235096\\\\\n",
       "\t  0.5804131 & -0.02449161 & -0.1421264 & -0.8014492\\\\\n",
       "\t  0.5648565 & -0.06694199 & -0.6342727 &  0.5235971\\\\\n",
       "\\end{tabular}\n"
      ],
      "text/markdown": [
       "\n",
       "A matrix: 4 × 4 of type dbl\n",
       "\n",
       "|  0.5210659 | -0.37741762 |  0.7195664 |  0.2612863 |\n",
       "| -0.2693474 | -0.92329566 | -0.2443818 | -0.1235096 |\n",
       "|  0.5804131 | -0.02449161 | -0.1421264 | -0.8014492 |\n",
       "|  0.5648565 | -0.06694199 | -0.6342727 |  0.5235971 |\n",
       "\n"
      ],
      "text/plain": [
       "     [,1]       [,2]        [,3]       [,4]      \n",
       "[1,]  0.5210659 -0.37741762  0.7195664  0.2612863\n",
       "[2,] -0.2693474 -0.92329566 -0.2443818 -0.1235096\n",
       "[3,]  0.5804131 -0.02449161 -0.1421264 -0.8014492\n",
       "[4,]  0.5648565 -0.06694199 -0.6342727  0.5235971"
      ]
     },
     "metadata": {},
     "output_type": "display_data"
    }
   ],
   "source": [
    "ev<-eigen(iris_cov)\n",
    "\n",
    "vectors<-ev$vector\n",
    "vectors"
   ]
  },
  {
   "cell_type": "markdown",
   "id": "8341f36d",
   "metadata": {},
   "source": [
    "### Calculating the Eigenvalues"
   ]
  },
  {
   "cell_type": "code",
   "execution_count": 91,
   "id": "d8578851",
   "metadata": {},
   "outputs": [
    {
     "data": {
      "text/html": [
       "<style>\n",
       ".list-inline {list-style: none; margin:0; padding: 0}\n",
       ".list-inline>li {display: inline-block}\n",
       ".list-inline>li:not(:last-child)::after {content: \"\\00b7\"; padding: 0 .5ex}\n",
       "</style>\n",
       "<ol class=list-inline><li>2.91849781653199</li><li>0.914030471468069</li><li>0.146756875571315</li><li>0.0207148364286194</li></ol>\n"
      ],
      "text/latex": [
       "\\begin{enumerate*}\n",
       "\\item 2.91849781653199\n",
       "\\item 0.914030471468069\n",
       "\\item 0.146756875571315\n",
       "\\item 0.0207148364286194\n",
       "\\end{enumerate*}\n"
      ],
      "text/markdown": [
       "1. 2.91849781653199\n",
       "2. 0.914030471468069\n",
       "3. 0.146756875571315\n",
       "4. 0.0207148364286194\n",
       "\n",
       "\n"
      ],
      "text/plain": [
       "[1] 2.91849782 0.91403047 0.14675688 0.02071484"
      ]
     },
     "metadata": {},
     "output_type": "display_data"
    }
   ],
   "source": [
    "values<-ev$values\n",
    "values"
   ]
  },
  {
   "cell_type": "markdown",
   "id": "b91514c5",
   "metadata": {},
   "source": [
    "The typical goal of a PCA is to reduce the dimensionality of the original feature space by\n",
    "projecting it onto a smaller subspace, where the eigenvectors will form the axes.\n",
    "In order to decide which eigenvector(s) can be dropped without losing too much\n",
    "information for the construction of lower-dimensional subspace, we need to inspect the\n",
    "corresponding eigenvalues: The eigenvectors with the lowest eigenvalues bear the least\n",
    "information about the distribution of the data; those are the ones can be dropped."
   ]
  },
  {
   "cell_type": "markdown",
   "id": "f650d964",
   "metadata": {},
   "source": [
    "### Explained Variance"
   ]
  },
  {
   "cell_type": "markdown",
   "id": "127d1ce4",
   "metadata": {},
   "source": [
    "After sorting the eigenpairs, the next question is \"how many principal components are we going to choose for our new feature subspace?\" A useful measure is the so-called \"explained variance,\" which can be calculated from the eigenvalues. The explained variance tells us how much information (variance) can be attributed to each of the principal components."
   ]
  },
  {
   "cell_type": "code",
   "execution_count": 93,
   "id": "5ecc6195",
   "metadata": {},
   "outputs": [
    {
     "data": {
      "text/html": [
       "4"
      ],
      "text/latex": [
       "4"
      ],
      "text/markdown": [
       "4"
      ],
      "text/plain": [
       "[1] 4"
      ]
     },
     "metadata": {},
     "output_type": "display_data"
    }
   ],
   "source": [
    "tot_value<-sum(values)\n",
    "tot_value"
   ]
  },
  {
   "cell_type": "code",
   "execution_count": 138,
   "id": "fced4248",
   "metadata": {},
   "outputs": [
    {
     "name": "stdout",
     "output_type": "stream",
     "text": [
      "[1] \"72.96%\" \"22.85%\" \"3.67%\"  \"0.52%\" \n"
     ]
    },
    {
     "data": {
      "image/png": "[encoded data removed]",
      "text/plain": [
       "plot without title"
      ]
     },
     "metadata": {
      "image/png": {
       "height": 420,
       "width": 420
      }
     },
     "output_type": "display_data"
    }
   ],
   "source": [
    "prop_var<-round((values/tot_value)*100,2)\n",
    "print(paste0(prop_var,\"%\"))\n",
    "\n",
    "barplot(prop_var,\n",
    "       xlab = \"Principal Components\",\n",
    "       ylab = \"Proportion of Variance Explained\",\n",
    "       names.arg = c(\"PC1\", \"PC2\", \"PC3\", \"PC4\"))"
   ]
  },
  {
   "cell_type": "code",
   "execution_count": 137,
   "id": "86513cfd",
   "metadata": {},
   "outputs": [
    {
     "name": "stdout",
     "output_type": "stream",
     "text": [
      "[1] \"72.96%\" \"95.81%\" \"99.48%\" \"100%\"  \n"
     ]
    },
    {
     "data": {
      "image/png": "[encoded data removed]",
      "text/plain": [
       "plot without title"
      ]
     },
     "metadata": {
      "image/png": {
       "height": 420,
       "width": 420
      }
     },
     "output_type": "display_data"
    }
   ],
   "source": [
    "cum_var<-c(prop_var[[1]],prop_var[[2]]+prop_var[[1]],prop_var[[3]]+prop_var[[2]]+prop_var[[1]],prop_var[[4]]+prop_var[[3]]+prop_var[[2]]+prop_var[[1]])\n",
    "print(paste0(cum_var,\"%\"))\n",
    "\n",
    "barplot(cum_var,\n",
    "       xlab = \"Principal Components\",\n",
    "       ylab = \"Cumulative Variance Explained\",\n",
    "       names.arg = c(\"PC1\", \"PC2\", \"PC3\", \"PC4\"))"
   ]
  },
  {
   "cell_type": "code",
   "execution_count": 135,
   "id": "d5402d3a",
   "metadata": {},
   "outputs": [
    {
     "data": {
      "text/html": [
       "<table class=\"dataframe\">\n",
       "<caption>A matrix: 2 × 4 of type dbl</caption>\n",
       "<tbody>\n",
       "\t<tr><th scope=row>prop_var</th><td>73</td><td>23</td><td> 4</td><td>  0.5</td></tr>\n",
       "\t<tr><th scope=row>cum_var</th><td>73</td><td>96</td><td>99</td><td>100.0</td></tr>\n",
       "</tbody>\n",
       "</table>\n"
      ],
      "text/latex": [
       "A matrix: 2 × 4 of type dbl\n",
       "\\begin{tabular}{r|llll}\n",
       "\tprop\\_var & 73 & 23 &  4 &   0.5\\\\\n",
       "\tcum\\_var & 73 & 96 & 99 & 100.0\\\\\n",
       "\\end{tabular}\n"
      ],
      "text/markdown": [
       "\n",
       "A matrix: 2 × 4 of type dbl\n",
       "\n",
       "| prop_var | 73 | 23 |  4 |   0.5 |\n",
       "| cum_var | 73 | 96 | 99 | 100.0 |\n",
       "\n"
      ],
      "text/plain": [
       "         [,1] [,2] [,3] [,4] \n",
       "prop_var 73   23    4     0.5\n",
       "cum_var  73   96   99   100.0"
      ]
     },
     "metadata": {},
     "output_type": "display_data"
    }
   ],
   "source": [
    "rbind(prop_var,cum_var)"
   ]
  },
  {
   "cell_type": "markdown",
   "id": "f69b5b3e",
   "metadata": {},
   "source": [
    "We can see that most of the variance can be explained by the first component alone by ~73%. The second brings some information of around 23%. While the third and fourth components can be safely dropped without losing much information. Together the two components contain ~96% of the information."
   ]
  },
  {
   "cell_type": "markdown",
   "id": "c7d0eea2",
   "metadata": {},
   "source": [
    "### Projection Matrix"
   ]
  },
  {
   "cell_type": "markdown",
   "id": "159ebbbb",
   "metadata": {},
   "source": [
    "The projection matrix will be used to transform the Iris data onto the new feature subspace. Although, the name \"projection matrix\" has a nice ring to it, it is basically just a matrix of our concatenated top k eigenvectors.\n",
    "\n",
    "Here, we are reducing the 4-dimensional feature space to a 2-dimensional feature subspace, by choosing the \"top 2\" eigenvectors with the highest eigenvalues to construct our d×k-dimensional eigenvector matrix W."
   ]
  },
  {
   "cell_type": "code",
   "execution_count": 168,
   "id": "855a06d4",
   "metadata": {
    "scrolled": true
   },
   "outputs": [
    {
     "data": {
      "text/html": [
       "<style>\n",
       ".list-inline {list-style: none; margin:0; padding: 0}\n",
       ".list-inline>li {display: inline-block}\n",
       ".list-inline>li:not(:last-child)::after {content: \"\\00b7\"; padding: 0 .5ex}\n",
       "</style>\n",
       "<ol class=list-inline><li>0.52106591467012</li><li>-0.269347442505942</li><li>0.580413095796295</li><li>0.564856535779361</li></ol>\n"
      ],
      "text/latex": [
       "\\begin{enumerate*}\n",
       "\\item 0.52106591467012\n",
       "\\item -0.269347442505942\n",
       "\\item 0.580413095796295\n",
       "\\item 0.564856535779361\n",
       "\\end{enumerate*}\n"
      ],
      "text/markdown": [
       "1. 0.52106591467012\n",
       "2. -0.269347442505942\n",
       "3. 0.580413095796295\n",
       "4. 0.564856535779361\n",
       "\n",
       "\n"
      ],
      "text/plain": [
       "[1]  0.5210659 -0.2693474  0.5804131  0.5648565"
      ]
     },
     "metadata": {},
     "output_type": "display_data"
    },
    {
     "data": {
      "text/html": [
       "<style>\n",
       ".list-inline {list-style: none; margin:0; padding: 0}\n",
       ".list-inline>li {display: inline-block}\n",
       ".list-inline>li:not(:last-child)::after {content: \"\\00b7\"; padding: 0 .5ex}\n",
       "</style>\n",
       "<ol class=list-inline><li>-0.377417615564567</li><li>-0.923295659540715</li><li>-0.0244916090855855</li><li>-0.066941986968058</li></ol>\n"
      ],
      "text/latex": [
       "\\begin{enumerate*}\n",
       "\\item -0.377417615564567\n",
       "\\item -0.923295659540715\n",
       "\\item -0.0244916090855855\n",
       "\\item -0.066941986968058\n",
       "\\end{enumerate*}\n"
      ],
      "text/markdown": [
       "1. -0.377417615564567\n",
       "2. -0.923295659540715\n",
       "3. -0.0244916090855855\n",
       "4. -0.066941986968058\n",
       "\n",
       "\n"
      ],
      "text/plain": [
       "[1] -0.37741762 -0.92329566 -0.02449161 -0.06694199"
      ]
     },
     "metadata": {},
     "output_type": "display_data"
    },
    {
     "data": {
      "text/html": [
       "<table class=\"dataframe\">\n",
       "<caption>A matrix: 4 × 2 of type dbl</caption>\n",
       "<tbody>\n",
       "\t<tr><td> 0.5210659</td><td>-0.37741762</td></tr>\n",
       "\t<tr><td>-0.2693474</td><td>-0.92329566</td></tr>\n",
       "\t<tr><td> 0.5804131</td><td>-0.02449161</td></tr>\n",
       "\t<tr><td> 0.5648565</td><td>-0.06694199</td></tr>\n",
       "</tbody>\n",
       "</table>\n"
      ],
      "text/latex": [
       "A matrix: 4 × 2 of type dbl\n",
       "\\begin{tabular}{ll}\n",
       "\t  0.5210659 & -0.37741762\\\\\n",
       "\t -0.2693474 & -0.92329566\\\\\n",
       "\t  0.5804131 & -0.02449161\\\\\n",
       "\t  0.5648565 & -0.06694199\\\\\n",
       "\\end{tabular}\n"
      ],
      "text/markdown": [
       "\n",
       "A matrix: 4 × 2 of type dbl\n",
       "\n",
       "|  0.5210659 | -0.37741762 |\n",
       "| -0.2693474 | -0.92329566 |\n",
       "|  0.5804131 | -0.02449161 |\n",
       "|  0.5648565 | -0.06694199 |\n",
       "\n"
      ],
      "text/plain": [
       "     [,1]       [,2]       \n",
       "[1,]  0.5210659 -0.37741762\n",
       "[2,] -0.2693474 -0.92329566\n",
       "[3,]  0.5804131 -0.02449161\n",
       "[4,]  0.5648565 -0.06694199"
      ]
     },
     "metadata": {},
     "output_type": "display_data"
    }
   ],
   "source": [
    "vectors[,1]\n",
    "vectors[,2]\n",
    "matrix_w<-t(rbind(vectors[,1],vectors[,2]))\n",
    "matrix_w"
   ]
  },
  {
   "cell_type": "markdown",
   "id": "d6290518",
   "metadata": {},
   "source": [
    "In this last step we will use the 4×2-dimensional projection matrix W to transform our samples onto the\n",
    "new subspace via the equation 𝑌 = 𝑆×𝑊, where S is the standardized original data set (150x4) and\n",
    "Y is a 150×2 matrix of our transformed samples."
   ]
  },
  {
   "cell_type": "code",
   "execution_count": 231,
   "id": "0dfd9b1e",
   "metadata": {},
   "outputs": [
    {
     "data": {
      "text/html": [
       "<table class=\"dataframe\">\n",
       "<caption>A data.frame: 6 × 3</caption>\n",
       "<thead>\n",
       "\t<tr><th></th><th scope=col>PC1</th><th scope=col>PC2</th><th scope=col>Species</th></tr>\n",
       "\t<tr><th></th><th scope=col>&lt;dbl&gt;</th><th scope=col>&lt;dbl&gt;</th><th scope=col>&lt;fct&gt;</th></tr>\n",
       "</thead>\n",
       "<tbody>\n",
       "\t<tr><th scope=row>1</th><td>-2.257141</td><td>-0.4784238</td><td>setosa</td></tr>\n",
       "\t<tr><th scope=row>2</th><td>-2.074013</td><td> 0.6718827</td><td>setosa</td></tr>\n",
       "\t<tr><th scope=row>3</th><td>-2.356335</td><td> 0.3407664</td><td>setosa</td></tr>\n",
       "\t<tr><th scope=row>4</th><td>-2.291707</td><td> 0.5953999</td><td>setosa</td></tr>\n",
       "\t<tr><th scope=row>5</th><td>-2.381863</td><td>-0.6446757</td><td>setosa</td></tr>\n",
       "\t<tr><th scope=row>6</th><td>-2.068701</td><td>-1.4842053</td><td>setosa</td></tr>\n",
       "</tbody>\n",
       "</table>\n"
      ],
      "text/latex": [
       "A data.frame: 6 × 3\n",
       "\\begin{tabular}{r|lll}\n",
       "  & PC1 & PC2 & Species\\\\\n",
       "  & <dbl> & <dbl> & <fct>\\\\\n",
       "\\hline\n",
       "\t1 & -2.257141 & -0.4784238 & setosa\\\\\n",
       "\t2 & -2.074013 &  0.6718827 & setosa\\\\\n",
       "\t3 & -2.356335 &  0.3407664 & setosa\\\\\n",
       "\t4 & -2.291707 &  0.5953999 & setosa\\\\\n",
       "\t5 & -2.381863 & -0.6446757 & setosa\\\\\n",
       "\t6 & -2.068701 & -1.4842053 & setosa\\\\\n",
       "\\end{tabular}\n"
      ],
      "text/markdown": [
       "\n",
       "A data.frame: 6 × 3\n",
       "\n",
       "| <!--/--> | PC1 &lt;dbl&gt; | PC2 &lt;dbl&gt; | Species &lt;fct&gt; |\n",
       "|---|---|---|---|\n",
       "| 1 | -2.257141 | -0.4784238 | setosa |\n",
       "| 2 | -2.074013 |  0.6718827 | setosa |\n",
       "| 3 | -2.356335 |  0.3407664 | setosa |\n",
       "| 4 | -2.291707 |  0.5953999 | setosa |\n",
       "| 5 | -2.381863 | -0.6446757 | setosa |\n",
       "| 6 | -2.068701 | -1.4842053 | setosa |\n",
       "\n"
      ],
      "text/plain": [
       "  PC1       PC2        Species\n",
       "1 -2.257141 -0.4784238 setosa \n",
       "2 -2.074013  0.6718827 setosa \n",
       "3 -2.356335  0.3407664 setosa \n",
       "4 -2.291707  0.5953999 setosa \n",
       "5 -2.381863 -0.6446757 setosa \n",
       "6 -2.068701 -1.4842053 setosa "
      ]
     },
     "metadata": {},
     "output_type": "display_data"
    }
   ],
   "source": [
    "Y<-data.frame(iris_scaled %*% matrix_w) # the %*% operator produces the dot product of S150x4 and W4x2 matrices. \n",
    "Y_labeled<-cbind(Y,iris$Species)\n",
    "Y_labeled<-data.frame(\"PC1\"=Y_labeled$X1,\"PC2\"=Y_labeled$X2,\"Species\"=iris$Species)\n",
    "head(Y_labeled)"
   ]
  },
  {
   "cell_type": "code",
   "execution_count": 232,
   "id": "4ff87b94",
   "metadata": {},
   "outputs": [
    {
     "data": {
      "image/png": "[encoded data removed]",
      "text/plain": [
       "plot without title"
      ]
     },
     "metadata": {
      "image/png": {
       "height": 420,
       "width": 420
      }
     },
     "output_type": "display_data"
    }
   ],
   "source": [
    "ggplot(Y_labeled) + geom_point(aes(x = PC1, y = PC2, colour = Species), alpha = 0.6, size = 3)"
   ]
  },
  {
   "cell_type": "markdown",
   "id": "86435347",
   "metadata": {},
   "source": [
    "### Principal Component Analysis using Prcomp() "
   ]
  },
  {
   "cell_type": "code",
   "execution_count": 66,
   "id": "95a2ec84",
   "metadata": {},
   "outputs": [],
   "source": [
    "iris.pca <- prcomp(iris_stripped, center= TRUE, scale= TRUE)"
   ]
  },
  {
   "cell_type": "code",
   "execution_count": 67,
   "id": "4fc2feb6",
   "metadata": {},
   "outputs": [
    {
     "data": {
      "image/png": "[encoded data removed]",
      "text/plain": [
       "plot without title"
      ]
     },
     "metadata": {
      "image/png": {
       "height": 420,
       "width": 420
      }
     },
     "output_type": "display_data"
    }
   ],
   "source": [
    "plot(predict(iris.pca))"
   ]
  },
  {
   "cell_type": "code",
   "execution_count": 68,
   "id": "f44c6741",
   "metadata": {},
   "outputs": [
    {
     "data": {
      "text/plain": [
       "Importance of components:\n",
       "                          PC1    PC2     PC3     PC4\n",
       "Standard deviation     1.7084 0.9560 0.38309 0.14393\n",
       "Proportion of Variance 0.7296 0.2285 0.03669 0.00518\n",
       "Cumulative Proportion  0.7296 0.9581 0.99482 1.00000"
      ]
     },
     "metadata": {},
     "output_type": "display_data"
    }
   ],
   "source": [
    "summary(iris.pca)"
   ]
  },
  {
   "cell_type": "code",
   "execution_count": null,
   "id": "ca115f5d",
   "metadata": {},
   "outputs": [],
   "source": []
  },
  {
   "cell_type": "markdown",
   "id": "f9ccd070",
   "metadata": {},
   "source": [
    "With the guidance of https://apsl.tech/en/blog/using-principal-component-analysis-pac-data-explore-step-step/"
   ]
  }
 ],
 "metadata": {
  "kernelspec": {
   "display_name": "R",
   "language": "R",
   "name": "ir"
  },
  "language_info": {
   "codemirror_mode": "r",
   "file_extension": ".r",
   "mimetype": "text/x-r-source",
   "name": "R",
   "pygments_lexer": "r",
   "version": "4.2.1"
  }
 },
 "nbformat": 4,
 "nbformat_minor": 5
}
